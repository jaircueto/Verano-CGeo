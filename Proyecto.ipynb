{
 "cells": [
  {
   "cell_type": "markdown",
   "metadata": {},
   "source": [
    "<img src=\"Julia.png\",width=120,height=120>\n",
    "\n",
    "# Análisis geoestadístico en Julia del catálago de eventos sísmicos del proyecto Global Centroid-Moment-Tensor (GCMT) para el sur de México"
   ]
  },
  {
   "cell_type": "markdown",
   "metadata": {},
   "source": [
    "Jair Alfredo Cueto Angulo, División Académica de Ciencias Básicas, Universidad Juárez Autónoma de Tabasco\n",
    "\n",
    "*jaiircuetoo@hotmail.com*\n",
    "\n",
    "Dr. Víctor Hugo Márquez Ramírez,  Centro de Geociencias, Universidad Nacional Autónoma de México\n",
    "\n",
    "*marvh81@gmail.com*\n"
   ]
  },
  {
   "cell_type": "markdown",
   "metadata": {},
   "source": [
    "## Planteamiento del problema\n",
    "\n",
    "El comportamiento estadístico enfoca su atención en la probabilidad de ocurrencia de un evento, tratando al fenómeno como una serie de ocurrencias de eventos en el tiempo, con una destribución a determinarse. La sismologıa estadıstica tambien se puede enteder como una herramienta matematica para la descripcion, comprension y pronostico de la ocurrencia de terremotos.\n",
    "\n",
    "Julia es un nuevo lenguaje de programación dinámico de alto nivel y alto rendimiento para la computación numérica. Proporciona un sofisticado compilador, ejecución paralela distribuida, precisión numérica y una extensa biblioteca de funciones matemáticas. El proceso básico en Julia es el REPL, que significa \"Read-Evaluate-Print Loop\".\n",
    "\n",
    "Durante este verano de investigación científica, se realizó un análisis geoestadístico en Julia del catálago de eventos sísmicos del sur de México obtenidos del proyecto Global Centroid-Moment-Tensor. Con el objetivo de analizar la actividad sísmica en el sur de México con técnicas y métodos estadísticos aplicados a las series de tiempo."
   ]
  },
  {
   "cell_type": "markdown",
   "metadata": {},
   "source": [
    "## Metodología\n",
    "\n",
    "Se utilizó el catálogo para el sur de México a 40 años (1976-2016) del proyecto Global Centroid-Moment-Tensor (GCMT) de la Universida de Harvard, en el cual se reporta principalmente información como: longitud, latitud, año, mes, día, magnitud, profundidad, etc. Dentro de las funciones estadísticas empleadas se utilizaron histogramas y ajuste lineal por mínimos cuadrados.\n",
    "\n",
    "Se utilizó la relación de Gutenberg-Richter o G-R (1944,1954), donde se encontró que el numero de sismos (N) está relacionado con la magnitud (m) de forma lineal mediante dos constantes, a y b. Para analizar el valor b de Gutenberg-Richter en el tiempo.\n",
    "\n",
    "    log N (≥ m) = a - bm \n",
    "\n",
    "    N(≥ m) = 10^(a - bm)\n",
    "\n",
    "donde N (≥ m) es el numero acumulado de eventos en una región y ventana de tiempo específicos, con magnitudes mayores o iguales que m. a y b son constantes positivas.\n",
    "\n",
    "Para la realización de este trabajo se desarrolló un código en Julia en la plataforma de Jupyter Notebook."
   ]
  },
  {
   "cell_type": "markdown",
   "metadata": {},
   "source": [
    "## Conclusión\n",
    "\n",
    "Gran parte de la actividad sı́smica en México proviene del movimiento de las placas de Cocos y Rivera al subducir por debajo de la placa Norteamericana. Además se considera una de las trincheras más activas en el mundo. Por otro lado, existe también un potencial de ocurrencia de sismos generados al interior del continente debido a los esfuerzos intraplaca. Por tanto, el estudio y mejoramiento de modelos estadísticos en la sı́smicidad en México es de gran importancia debido a la frecuencia de grandes sismos que afectan nuestro territorio.\n",
    "\n",
    "Cabe mencionar que gracias al Verano de la Investigación Científica he reforzado mi formación académica al desarrollar técnicas de procesado estadístico de datos aplicados a la sismologia, el manejo de nuevos sofwares y lenguajes de programación como Python y Julia."
   ]
  },
  {
   "cell_type": "markdown",
   "metadata": {
    "collapsed": true
   },
   "source": [
    "## Bibliografía\n",
    "\n",
    "- *Gutenberg, R. y Richter, C.F., 1944. Frequency of earthquakes in California. Bull. Seismol. Soc. Am., 34, 185-188.*\n",
    "\n",
    "- *Gutenberg, B. y Richter, C.F., 1954. Seismicity of the Earth (and associated phenomena). Princeton University Press, Princeton, NJ, EUA*\n",
    "\n",
    "- *Dziewonski, A. M., T.-A. Chou and J. H. Woodhouse, Determination of earthquake source parameters from waveform data for studies of global and regional seismicity, J. Geophys. Res., 86, 2825-2852, 1981. doi:10.1029/JB086iB04p02825.*\n",
    "\n",
    "- *Ekström, G., M. Nettles, and A. M. Dziewonski, The global CMT project 2004-2010: Centroid-moment tensors for 13,017 earthquakes, Phys. Earth Planet. Inter., 200-201, 1-9, 2012. doi:10.1016/j.pepi.2012.04.002.*"
   ]
  },
  {
   "cell_type": "code",
   "execution_count": null,
   "metadata": {
    "collapsed": true
   },
   "outputs": [],
   "source": []
  }
 ],
 "metadata": {
  "kernelspec": {
   "display_name": "Julia 0.6.0",
   "language": "julia",
   "name": "julia-0.6"
  },
  "language_info": {
   "file_extension": ".jl",
   "mimetype": "application/julia",
   "name": "julia",
   "version": "0.6.0"
  }
 },
 "nbformat": 4,
 "nbformat_minor": 2
}
