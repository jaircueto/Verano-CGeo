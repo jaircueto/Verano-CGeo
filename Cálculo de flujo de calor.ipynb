{
 "cells": [
  {
   "cell_type": "markdown",
   "metadata": {},
   "source": [
    "                                           Introducción a la Geotermia\n",
    "                                      Universidad Nacional Autónoma de México\n",
    "                                  Semana 1 Introducción a la Exploración Geotérmica\n",
    "                                            Cálculo de Flujo de Calor\n",
    "                                            Jair Alfredo Cueto Angulo\n",
    "                                          correo: jaiircuetoo@hotmail.com"
   ]
  },
  {
   "cell_type": "markdown",
   "metadata": {},
   "source": [
    "### Actividades por pares"
   ]
  },
  {
   "cell_type": "markdown",
   "metadata": {},
   "source": [
    "1) Calcula el flujo de calor en la base de cada capa con base en los datos que se te dan:\n",
    "\n",
    "- Flujo de calor en la superficie de la Tierra\n",
    "- Espesor de cada capa\n",
    "- La y producción de calor en ellas, conociendo el flujo de calor en la base"
   ]
  },
  {
   "cell_type": "markdown",
   "metadata": {},
   "source": [
    "2) Determina el flujo de calor promedio en la capa y utiliza este valor para calcular el gradiente geotérmico ∆t/∆z y la temperatura a profundidad. Supón un semiespacio infinito con capas horizontales, para esta actividad el transporte de calor está restringido al fenómeno de conducción; finalmente, supón que las fuentes de calor son constantes en cada capa.\n",
    "\n",
    "Considera que el flujo de calor y la temperatura en el límite de los granitos y las granodioritas es el mismo."
   ]
  },
  {
   "cell_type": "markdown",
   "metadata": {
    "collapsed": true
   },
   "source": [
    "3) Recuerda que una vez que hayas realizado tu actividad, deberás subirla para que sea evaluada por dos participantes del curso.\n",
    "\n",
    "En el proceso de evaluación deberás descargar la lista de cotejo con la que compararás los resultados de tus compañeros con las respuestas correctas."
   ]
  },
  {
   "cell_type": "markdown",
   "metadata": {},
   "source": [
    "<img src=\"imagen.png\", ALIGN=CENTER>\n"
   ]
  },
  {
   "cell_type": "markdown",
   "metadata": {},
   "source": [
    "## Procedimiento"
   ]
  },
  {
   "cell_type": "markdown",
   "metadata": {},
   "source": [
    "La ecuación del flujo de calor es:\n",
    "\n",
    "                                                 q = -k (∆t/∆z)\n",
    "\n",
    "donde k es la conductividad de cada una de las capas de las  rocas y (∆t/∆z) es el gradiente geotérmico.\n",
    "En este ejercicio se mide el flujo de calor en la superficie y es 4.4 cW/m² y con los datos de producción de calor y el espesor de la capa se puede calcular el flujo de calor en la base de la capa.\n",
    "\n",
    "Con base en esto, el calculo del flujo de calor para cada capa, considerando que el flujo de calor y la temperatura en los límites de las capas es el mismo y como el flujo de calor varía en la capa por la producción de calor, se utiliza el promedio para calcular el gradiente geotérmico. \n",
    "\n",
    "                                - Calculo de flujo de calor para la capa de granodioritas\n",
    "\n",
    "Para una capa delimitada por Z0 y Z1:\n",
    "\n",
    "                                                q0 = A ∗ (Z1 − Z0) + q1\n",
    "                                                q1 = q0 - Ax (Z1 - Z0)\n",
    "\n",
    "Donde q1 es el flujo de calor para la capa de granodioritas y q0 es el flujo de calor en el límite de la capa de granitos y granodioritas, A es el calor producido por los elementos radiactivos por unidad de volumen y Z1 y Z0 corresponden a las profundidades de las  capas."
   ]
  },
  {
   "cell_type": "markdown",
   "metadata": {},
   "source": [
    "### Calculando q a 35000 m:"
   ]
  },
  {
   "cell_type": "code",
   "execution_count": 1,
   "metadata": {
    "collapsed": true
   },
   "outputs": [],
   "source": [
    "q0 = 3.2e-2;     # W / m²\n",
    "A = 0.25e-6;     # W / m³\n",
    "Z1 = 35000;      # m\n",
    "Z0 = 8000;       # m"
   ]
  },
  {
   "cell_type": "code",
   "execution_count": 2,
   "metadata": {},
   "outputs": [
    {
     "name": "stdout",
     "output_type": "stream",
     "text": [
      "0.02525 W/m²"
     ]
    }
   ],
   "source": [
    "q1 = q0 - A * (Z1 - Z0)\n",
    "print(q1, \" W/m²\")"
   ]
  },
  {
   "cell_type": "markdown",
   "metadata": {},
   "source": [
    "### Calculando la temperatura a 8000 m:"
   ]
  },
  {
   "cell_type": "markdown",
   "metadata": {},
   "source": [
    "T = (∆t/∆z)*(z) + To\n",
    "\n",
    "Donde (∆t/∆z) es el gradiente geotérmico y To es la temperatura inicial de la capa."
   ]
  },
  {
   "cell_type": "code",
   "execution_count": 3,
   "metadata": {
    "collapsed": true
   },
   "outputs": [],
   "source": [
    "Gradiente = 1.9e-2;         # °C / m \n",
    "z = 8000;                   # m\n",
    "To = 10;                    # °C"
   ]
  },
  {
   "cell_type": "code",
   "execution_count": 4,
   "metadata": {},
   "outputs": [
    {
     "name": "stdout",
     "output_type": "stream",
     "text": [
      "162.0 °C"
     ]
    }
   ],
   "source": [
    "T = (Gradiente)*(z) + To\n",
    "print(T, \" °C\")"
   ]
  },
  {
   "cell_type": "markdown",
   "metadata": {},
   "source": [
    "### Calculando el gradiente geotérmico entre 8000 y 35000 m:"
   ]
  },
  {
   "cell_type": "markdown",
   "metadata": {},
   "source": [
    "Considerando  que  la  temperatura  entre  los  límites  de  las  capas  es  el  mismo,  se calcula  la  T  para  la capa de  granodioritas  a  una  profundidad  de  35000m, tomando  como  To,  el  valor  de  T=162 °C calculado anteriormente, pero  antes  de calcular  esta  temperatura  debe  conocerse  el  gradiente  geotérmico  para  esta capa. \n",
    "\n",
    "q = -k (∆t/∆z)\n",
    "\n",
    "El  valor  de  q  se  toma  como  un  promedio  entre  los  límites  de  capa  de  granito y graniodiorita, ya que como se mencionó al inicio del inciso, el flujo de calor de la base de una capa se considera el mismo que el del tope de la capa inferior. "
   ]
  },
  {
   "cell_type": "code",
   "execution_count": 5,
   "metadata": {},
   "outputs": [
    {
     "name": "stdout",
     "output_type": "stream",
     "text": [
      "0.028625 W/m²"
     ]
    }
   ],
   "source": [
    "qprom = (q0+q1)/2       # W / m²\n",
    "print(qprom, \" W/m²\")"
   ]
  },
  {
   "cell_type": "code",
   "execution_count": 6,
   "metadata": {},
   "outputs": [
    {
     "name": "stdout",
     "output_type": "stream",
     "text": [
      "0.009541666666666667 °C/m"
     ]
    }
   ],
   "source": [
    "# ∆1 = ∆t/∆z\n",
    "k = 3\n",
    "∆1 = qprom / k           # °C / m\n",
    "print(∆1, \" °C/m\")"
   ]
  },
  {
   "cell_type": "markdown",
   "metadata": {},
   "source": [
    "### Calculando la temperatura para 35000 m:"
   ]
  },
  {
   "cell_type": "markdown",
   "metadata": {},
   "source": [
    " T = (∆t/∆z)*(z2-z1)+ To"
   ]
  },
  {
   "cell_type": "code",
   "execution_count": 7,
   "metadata": {},
   "outputs": [
    {
     "name": "stdout",
     "output_type": "stream",
     "text": [
      "418.5 °C"
     ]
    }
   ],
   "source": [
    "# ∆1 = ∆t/∆z = 0.0095\n",
    "# To = 162 \n",
    "T = (0.0095)*(35000 - 8000) + 162\n",
    "print(T, \" °C\")"
   ]
  },
  {
   "cell_type": "code",
   "execution_count": null,
   "metadata": {
    "collapsed": true
   },
   "outputs": [],
   "source": []
  }
 ],
 "metadata": {
  "kernelspec": {
   "display_name": "Julia 0.6.0",
   "language": "julia",
   "name": "julia-0.6"
  },
  "language_info": {
   "file_extension": ".jl",
   "mimetype": "application/julia",
   "name": "julia",
   "version": "0.6.0"
  }
 },
 "nbformat": 4,
 "nbformat_minor": 2
}
