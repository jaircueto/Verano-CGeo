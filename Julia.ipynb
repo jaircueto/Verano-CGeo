{
 "cells": [
  {
   "cell_type": "markdown",
   "metadata": {},
   "source": [
    "# Computation and data in a polyglot world - Fernando Pérez"
   ]
  },
  {
   "cell_type": "markdown",
   "metadata": {},
   "source": [
    "En el 2001 cuando Fernando Pérez estaba haciendo un doctorado en física de partículas empezó a tratar la transición de distancia de una cadena de herramientas, que se basó significativamente, en IDL, que es un lenguaje de programación.\n",
    "Quería hacer la transición al uso abierto, con herramientas para el uso de la maquinaria de código abierto tanto como sea posible lo cual se convirtió en Ipython: Python interactivo, en un principio fue una herramienta basada en:\n",
    "\n",
    "*Terminales interactivas.\n",
    "Combinación de código, acceso a archivos de datos y visualización.\n",
    "Orientado hacia un trabajo de análisis interactivo y exploratorio.\n",
    "El flujo de trabajo / necesario.*"
   ]
  },
  {
   "cell_type": "markdown",
   "metadata": {
    "collapsed": true
   },
   "source": [
    "# The Ipython / Jupyter notebook\n",
    "\n",
    "Texto y matemáticas.\n",
    "Código.\n",
    "Resultados.\n",
    "Compartir, reproducir.\n",
    "\n",
    "# De Ipython al proyecto Jupyter\n",
    "\n",
    "La gente comenzó a usarlo. Se interrumpió la ejecución del código de forma interactiva en dos piezas, un cliente en el que interacturía donde tendría que escribir sus respuestas que serían el terminal o se podría ser el navegador web y la ejecución en sí del proceso que definimos.\n",
    "\n",
    "*\"Julia y Python no son enemigos, lo que buscamos es realmente construir plataformas para la ciencia abierta\" - Fernando Pérez*"
   ]
  },
  {
   "cell_type": "markdown",
   "metadata": {},
   "source": [
    "# La ciencia es más que un lenguaje de programación.\n",
    "\n",
    "Los lenguajes de programación como Python o Julia son herramientas y lo que interesa realmente, es facilitar la investigación científica.\n",
    "Cada tipo de lenguaje de programación juega su papel y las transiciones de lenguaje toman tiempo."
   ]
  },
  {
   "cell_type": "markdown",
   "metadata": {},
   "source": [
    "# JavaScript?\n",
    "\n",
    "Algunas personas de esa comunidad tienen sus druthers. En la descripción de la charla que se dio el pasado mes en Portland, el autor esta firmemente convencido de que JavaScript es el futuro de la computación científica y que todos los códigos numéricos serán escritos en JavaScript, (la audiencia esta en desacuerdo con esa declaración)."
   ]
  },
  {
   "cell_type": "markdown",
   "metadata": {},
   "source": [
    "# Ciencia abierta y reproducible: las lenguas son herramientas.\n",
    "Uno de los objetivos principales en Jupyter es dar elasticidad a la gente para tener herramientas para hacer más ciencia abierta, colaboración más accesible, más reproducible, y cita al estadístico David Donoho \"Un artículo sobre ciencia computacional en una publicación científica no es la beca en sí, sino que es simplemente publicidad de la beca. La beca real es el entorno completo de desarrollo de software y el conjunto completo de instrucciones que generaron las cifras\"."
   ]
  },
  {
   "cell_type": "markdown",
   "metadata": {},
   "source": [
    "# Libros ejecutables\n",
    "Se utiliza básicamente, para apoyar la publicación de materiales ejecutables, no solo trabajos de investigación sino libros enteros. "
   ]
  }
 ],
 "metadata": {
  "kernelspec": {
   "display_name": "Julia 0.6.0",
   "language": "julia",
   "name": "julia-0.6"
  },
  "language_info": {
   "file_extension": ".jl",
   "mimetype": "application/julia",
   "name": "julia",
   "version": "0.6.0"
  }
 },
 "nbformat": 4,
 "nbformat_minor": 2
}
