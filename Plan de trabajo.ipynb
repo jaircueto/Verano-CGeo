{
 "cells": [
  {
   "cell_type": "markdown",
   "metadata": {},
   "source": [
    "# Plan de Trabajo"
   ]
  },
  {
   "cell_type": "markdown",
   "metadata": {},
   "source": [
    "## Actividades de la semana 1\n"
   ]
  },
  {
   "cell_type": "markdown",
   "metadata": {
    "collapsed": true
   },
   "source": [
    "- Bienvenida realizada por el asesor y visita guíada en las instalaciones del Centro de Geociencias, UNAM.\n",
    "\n",
    "- Seminario de introducción a la sismología."
   ]
  },
  {
   "cell_type": "markdown",
   "metadata": {},
   "source": [
    "## Actividades de la semana 2"
   ]
  },
  {
   "cell_type": "markdown",
   "metadata": {},
   "source": [
    "- Documentación y consulta bibliográfica sobre sismología.\n",
    "\n",
    "- Instalación de Jupyter Notebook.\n",
    "\n",
    "- Instalación de los lenguajes de programación Python y Julia en sistema operativo Linux.\n",
    "- Realizar las actividades del tutorial de introducción a Python."
   ]
  },
  {
   "cell_type": "markdown",
   "metadata": {},
   "source": [
    "## Actividades de la semana 3\n",
    "\n",
    "- Seminario de introducción a Python.\n",
    "\n",
    "- Creación de cuenta y repositorios de GitHub.\n",
    "\n",
    "- Resumen de la conferencia\"Computation and Data in a Polyglot World\" de Fernando Pérez en el JuliaCon 2017.\n",
    "\n",
    "- Inscripción al curso \"Julia Scientific Programming\" por la Universidad de Ciudad del Cabo en la plataforma de Coursera."
   ]
  },
  {
   "cell_type": "markdown",
   "metadata": {},
   "source": [
    "## Actividades de la semana 4\n",
    "- Seminario de introducción a Julia.\n",
    "\n",
    "- Realizar las actividades del tutorial de Obspy en Seismo-Live.\n",
    "\n",
    "- Asignación de proyecto de investigación."
   ]
  },
  {
   "cell_type": "markdown",
   "metadata": {},
   "source": [
    "## Actividades de la semana 5\n",
    "- Realizar las actividades del tutorial de introducción a Julia.\n",
    "\n",
    "- Caracterización de evento sísmico y cambio de formato tipo MSEED a SAC, utilizando la libreta de Jupyter con Python.\n",
    "\n",
    "- Análisis de frecuencia del evento sísmico utilizando la libreta de Jupyter con Julia."
   ]
  },
  {
   "cell_type": "markdown",
   "metadata": {},
   "source": [
    "## Actividades de la semana 6\n",
    "\n",
    "- Procesado geoestadístico de un catálago de eventos sísmicos obtenidos del proyecto global centroid-moment-tensor (GCMT), utilizando la libreta de Jupyter con Julia.\n",
    "\n",
    "- Realización del resumen del trabajo de investigación.\n",
    "\n",
    "- Análisis del valor b de Gutenberg-Richter en el tiempo.\n",
    "\n"
   ]
  },
  {
   "cell_type": "markdown",
   "metadata": {},
   "source": [
    "## Actividades de la semana 7\n",
    "\n",
    "- Documentación de otras líneas de investigación de interés para proximas estancias de investigación científica y tesis de licenciatura.\n",
    "\n",
    "- Revisión de trabajo final."
   ]
  },
  {
   "cell_type": "code",
   "execution_count": null,
   "metadata": {
    "collapsed": true
   },
   "outputs": [],
   "source": []
  }
 ],
 "metadata": {
  "kernelspec": {
   "display_name": "Julia 0.6.0",
   "language": "julia",
   "name": "julia-0.6"
  },
  "language_info": {
   "file_extension": ".jl",
   "mimetype": "application/julia",
   "name": "julia",
   "version": "0.6.0"
  }
 },
 "nbformat": 4,
 "nbformat_minor": 2
}
